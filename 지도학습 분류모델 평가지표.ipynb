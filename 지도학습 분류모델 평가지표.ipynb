{
  "nbformat": 4,
  "nbformat_minor": 0,
  "metadata": {
    "colab": {
      "provenance": [],
      "authorship_tag": "ABX9TyMVxeEPlw2gJntsC6j0TW2K",
      "include_colab_link": true
    },
    "kernelspec": {
      "name": "python3",
      "display_name": "Python 3"
    },
    "language_info": {
      "name": "python"
    }
  },
  "cells": [
    {
      "cell_type": "markdown",
      "metadata": {
        "id": "view-in-github",
        "colab_type": "text"
      },
      "source": [
        "<a href=\"https://colab.research.google.com/github/MonkeyTable/AI_Literacy/blob/main/4%EA%B3%BC_%EB%B6%84%EC%84%9D%EB%AA%A8%ED%98%95_%ED%8F%89%EA%B0%80.ipynb\" target=\"_parent\"><img src=\"https://colab.research.google.com/assets/colab-badge.svg\" alt=\"Open In Colab\"/></a>"
      ]
    },
    {
      "cell_type": "markdown",
      "source": [
        "#지도학습 분류모델 평가지표"
      ],
      "metadata": {
        "id": "7BpAwHI15HEs"
      }
    },
    {
      "cell_type": "markdown",
      "source": [
        "##오차(혼돈)행렬Confusion Matrix"
      ],
      "metadata": {
        "id": "ZO9iMv7j5Qi0"
      }
    },
    {
      "cell_type": "code",
      "execution_count": null,
      "metadata": {
        "id": "2HagvQeK4vSR"
      },
      "outputs": [],
      "source": [
        "import numpy as np\n",
        "from sklearn.metrics import confusion_matrix, ConfusionMatrixDisplay\n",
        "import matplotlib.pyplot as plt\n",
        "\n",
        "# 예제 데이터: 실제 값(y_true)과 예측 값(y_pred)\n",
        "y_true = np.array([0, 1, 0, 1, 0, 1, 1, 0, 1, 0])\n",
        "y_pred = np.array([0, 1, 0, 0, 0, 1, 1, 1, 0, 0])\n",
        "\n",
        "# Confusion Matrix 생성\n",
        "cm = confusion_matrix(y_true, y_pred)\n",
        "\n",
        "# Confusion Matrix 시각화\n",
        "disp = ConfusionMatrixDisplay(confusion_matrix=cm)\n",
        "disp.plot(cmap=plt.cm.Blues)\n",
        "plt.show()\n",
        "\n",
        "#평가지표 계산\n",
        "from sklearn.metrics import accuracy_score, precision_score, recall_score, f1_score\n",
        "\n",
        "accuracy = accuracy_score(y_true, y_pred)\n",
        "precision = precision_score(y_true, y_pred)\n",
        "recall = recall_score(y_true, y_pred)\n",
        "f1 = f1_score(y_true, y_pred)\n",
        "\n",
        "print(f'Accuracy: {accuracy:.2f}')\n",
        "print(f'Precision: {precision:.2f}')\n",
        "print(f'Recall: {recall:.2f}')\n",
        "print(f'F1 Score: {f1:.2f}')"
      ]
    },
    {
      "cell_type": "code",
      "source": [
        "#평가지표 계산: 특이도, ROC Curve\n",
        "import numpy as np\n",
        "from sklearn.metrics import confusion_matrix, roc_curve, roc_auc_score, ConfusionMatrixDisplay\n",
        "import matplotlib.pyplot as plt\n",
        "\n",
        "# 예제 데이터: 실제 값(y_true)과 예측 확률(y_scores)\n",
        "y_true = np.array([0, 1, 0, 1, 0, 1, 1, 0, 1, 0])\n",
        "y_scores = np.array([0.1, 0.9, 0.2, 0.4, 0.3, 0.8, 0.9, 0.6, 0.7, 0.2])\n",
        "\n",
        "# 예측 레이블을 threshold 0.5로 이진화\n",
        "y_pred = (y_scores >= 0.5).astype(int)\n",
        "\n",
        "# Confusion Matrix 생성\n",
        "cm = confusion_matrix(y_true, y_pred)\n",
        "\n",
        "# True Negative, False Positive, False Negative, True Positive 추출\n",
        "TN, FP, FN, TP = cm.ravel()\n",
        "\n",
        "# Specificity 계산\n",
        "specificity = TN / (TN + FP)\n",
        "print(f'Specificity: {specificity:.2f}')\n",
        "\n",
        "# ROC Curve 및 AUC 계산\n",
        "fpr, tpr, thresholds = roc_curve(y_true, y_scores)\n",
        "roc_auc = roc_auc_score(y_true, y_scores)\n",
        "\n",
        "# ROC Curve 그리기\n",
        "plt.figure()\n",
        "plt.plot(fpr, tpr, color='blue', lw=2, label=f'ROC curve (area = {roc_auc:.2f})')\n",
        "plt.plot([0, 1], [0, 1], color='gray', linestyle='--')\n",
        "plt.xlim([0.0, 1.0])\n",
        "plt.ylim([0.0, 1.0])\n",
        "plt.xlabel('False Positive Rate')\n",
        "plt.ylabel('True Positive Rate')\n",
        "plt.title('Receiver Operating Characteristic (ROC)')\n",
        "plt.legend(loc=\"lower right\")\n",
        "plt.show()\n"
      ],
      "metadata": {
        "id": "blCxbwJMCpU1"
      },
      "execution_count": null,
      "outputs": []
    },
    {
      "cell_type": "markdown",
      "source": [
        "### 혼동행렬 생성"
      ],
      "metadata": {
        "id": "sDslESShQQ3e"
      }
    },
    {
      "cell_type": "markdown",
      "source": [
        "- 파일 불러오기"
      ],
      "metadata": {
        "id": "k-QRnUM-5t6_"
      }
    },
    {
      "cell_type": "code",
      "source": [
        "import numpy as np\n",
        "from sklearn.metrics import confusion_matrix, ConfusionMatrixDisplay\n",
        "import matplotlib.pyplot as plt"
      ],
      "metadata": {
        "id": "U4k8sAmSDY65"
      },
      "execution_count": 1,
      "outputs": []
    },
    {
      "cell_type": "markdown",
      "source": [
        "- 예제 데이터"
      ],
      "metadata": {
        "id": "sN7V0nyi51KW"
      }
    },
    {
      "cell_type": "code",
      "source": [
        " #예제 데이터: 실제 값(y_true)과 예측 값(y_pred)\n",
        "y_true = np.array([0, 1, 0, 1, 0, 1, 1, 0, 1, 0])\n",
        "y_pred = np.array([0, 1, 0, 0, 0, 1, 1, 1, 0, 0])"
      ],
      "metadata": {
        "id": "ul3iOLds55SM"
      },
      "execution_count": 16,
      "outputs": []
    },
    {
      "cell_type": "markdown",
      "source": [
        "- confusion matrix 생성"
      ],
      "metadata": {
        "id": "96V04zVL58E0"
      }
    },
    {
      "cell_type": "code",
      "source": [
        "# Confusion Matrix 생성\n",
        "cm = confusion_matrix(y_true, y_pred)\n",
        "print(f\"Confusion Matrix: {cm}\")"
      ],
      "metadata": {
        "colab": {
          "base_uri": "https://localhost:8080/"
        },
        "id": "XLcXl7Te6Dzh",
        "outputId": "0e6dadf7-c7ba-4604-df7d-c7814634f6f9"
      },
      "execution_count": 17,
      "outputs": [
        {
          "output_type": "stream",
          "name": "stdout",
          "text": [
            "Confusion Matrix: [[4 1]\n",
            " [2 3]]\n"
          ]
        }
      ]
    },
    {
      "cell_type": "markdown",
      "source": [
        "- confusion matrix 시각화"
      ],
      "metadata": {
        "id": "fmuIpDet6Q25"
      }
    },
    {
      "cell_type": "code",
      "source": [
        "# Confusion Matrix 시각화\n",
        "disp = ConfusionMatrixDisplay(confusion_matrix=cm)\n",
        "disp.plot(cmap=plt.cm.Blues)\n",
        "plt.show()"
      ],
      "metadata": {
        "colab": {
          "base_uri": "https://localhost:8080/",
          "height": 455
        },
        "id": "-t0ljUeB6W0c",
        "outputId": "d3cefb41-0662-4a9d-dd80-166dc2ade351"
      },
      "execution_count": 5,
      "outputs": [
        {
          "output_type": "display_data",
          "data": {
            "text/plain": [
              "<Figure size 640x480 with 2 Axes>"
            ],
            "image/png": "[encoded data removed]"
          },
          "metadata": {}
        }
      ]
    },
    {
      "cell_type": "markdown",
      "source": [
        "### 평가지표 계산:\n",
        "  - 정확도Accuracy: 실제 데이터와 예측 데이터 비교, accuracy=(TP+TN/TP+TN+FP+FN)\n",
        "  - 정밀도Precision: positive 예측 중 실제 positive, precision=(TP/TP+FP)\n",
        "  - 민감도(재현율,Recall): 실제 positive 중 정확한 positive 예측, recall=(TP/TP+FN)\n",
        "  * 정밀도와 민감도(재현율)은 상충관계trade-off\n",
        "  - F1-score: 정밀도, 재현율 결합한 조화평균, F1=2/((1/recall)+(1/precision))=2X(precision*recall/precision+recall)\n",
        "  - 특이도Specificity: 실제 negative 중 정확한 negative 예측, TN/(TN+FP)\n",
        "  - ROC(Reciver Operation Characteristic)곡선: FPR(1-특이도)가 변할 때 TPR(민감도)의 변화, FPR=FP/FP+TN, TPR=TP/TP+FN"
      ],
      "metadata": {
        "id": "vdZNJVHC6ylz"
      }
    },
    {
      "cell_type": "code",
      "source": [
        "#평가지표 계산: 정확도, 정밀도, 민감도, F1\n",
        "from sklearn.metrics import accuracy_score, precision_score, recall_score, f1_score\n",
        "\n",
        "accuracy = accuracy_score(y_true, y_pred)\n",
        "precision = precision_score(y_true, y_pred)\n",
        "recall = recall_score(y_true, y_pred)\n",
        "f1 = f1_score(y_true, y_pred)\n",
        "\n",
        "print(f'Accuracy: {accuracy:.2f}')\n",
        "print(f'Precision: {precision:.2f}')\n",
        "print(f'Recall: {recall:.2f}')\n",
        "print(f'F1 Score: {f1:.2f}')\n"
      ],
      "metadata": {
        "colab": {
          "base_uri": "https://localhost:8080/"
        },
        "id": "A2dXg6moBx5w",
        "outputId": "6df6fafb-2b89-4c13-86ed-fe34cdb2b426"
      },
      "execution_count": 18,
      "outputs": [
        {
          "output_type": "stream",
          "name": "stdout",
          "text": [
            "Accuracy: 0.70\n",
            "Precision: 0.75\n",
            "Recall: 0.60\n",
            "F1 Score: 0.67\n"
          ]
        }
      ]
    },
    {
      "cell_type": "markdown",
      "source": [
        "### 특이도, ROC Curve, AUC"
      ],
      "metadata": {
        "id": "9gjEBCo8CAG8"
      }
    },
    {
      "cell_type": "markdown",
      "source": [
        "  - 함수 불러오기"
      ],
      "metadata": {
        "id": "vZl1fw7cMvPa"
      }
    },
    {
      "cell_type": "code",
      "source": [
        "#평가지표 계산: 특이도, ROC Curve\n",
        "import numpy as np\n",
        "from sklearn.metrics import confusion_matrix, roc_curve, roc_auc_score, ConfusionMatrixDisplay\n",
        "import matplotlib.pyplot as plt"
      ],
      "metadata": {
        "id": "d8Cm6A5ZM2aD"
      },
      "execution_count": 19,
      "outputs": []
    },
    {
      "cell_type": "markdown",
      "source": [
        "- 예제 데이터"
      ],
      "metadata": {
        "id": "1l1jTGh5M4fi"
      }
    },
    {
      "cell_type": "code",
      "source": [
        "#실제 값(y_true)과 예측 확률(y_scores)\n",
        "y_true = np.array([0, 1, 0, 1, 0, 1, 1, 0, 1, 0])\n",
        "y_scores = np.array([0.1, 0.9, 0.2, 0.4, 0.3, 0.8, 0.9, 0.6, 0.7, 0.2])\n",
        "\n",
        "# 예측 레이블 threshold 0.5로 이진화\n",
        "y_pred = (y_scores >= 0.5).astype(int)"
      ],
      "metadata": {
        "id": "cT-E9eA7NH3i"
      },
      "execution_count": 20,
      "outputs": []
    },
    {
      "cell_type": "markdown",
      "source": [
        "- Confusion Matrix 및 평가지수 산출"
      ],
      "metadata": {
        "id": "MOOnCyalPIb3"
      }
    },
    {
      "cell_type": "code",
      "source": [
        "# Confusion Matrix 생성\n",
        "cm = confusion_matrix(y_true, y_pred)\n",
        "\n",
        "# True Negative, False Positive, False Negative, True Positive 추출\n",
        "TN, FP, FN, TP = cm.ravel()\n",
        "print(f'Confusion Matrix: {cm}')"
      ],
      "metadata": {
        "colab": {
          "base_uri": "https://localhost:8080/"
        },
        "id": "wkxz2xPcPOpR",
        "outputId": "dbd70ceb-36eb-4ee8-b583-8bdfd0c9f842"
      },
      "execution_count": 21,
      "outputs": [
        {
          "output_type": "stream",
          "name": "stdout",
          "text": [
            "Confusion Matrix: [[4 1]\n",
            " [1 4]]\n"
          ]
        }
      ]
    },
    {
      "cell_type": "markdown",
      "source": [
        "- Specificity, ROC AUC 계산"
      ],
      "metadata": {
        "id": "UTYd-T4pPUmv"
      }
    },
    {
      "cell_type": "code",
      "source": [
        "# Specificity 계산\n",
        "specificity = TN / (TN + FP)\n",
        "print(f'Specificity: {specificity:.2f}')"
      ],
      "metadata": {
        "colab": {
          "base_uri": "https://localhost:8080/"
        },
        "id": "X0wlf18oPgE9",
        "outputId": "95a73644-d5bc-4c37-d286-e815207ebc11"
      },
      "execution_count": 22,
      "outputs": [
        {
          "output_type": "stream",
          "name": "stdout",
          "text": [
            "Specificity: 0.80\n"
          ]
        }
      ]
    },
    {
      "cell_type": "markdown",
      "source": [
        "- ROC Curve 및 AUC 계산"
      ],
      "metadata": {
        "id": "mrshDsXWRtAm"
      }
    },
    {
      "cell_type": "code",
      "source": [
        "# ROC Curve 및 AUC 계산\n",
        "fpr, tpr, thresholds = roc_curve(y_true, y_scores)\n",
        "roc_auc = roc_auc_score(y_true, y_scores)\n",
        "print(f'FRP:{fpr}')\n",
        "print(f'TPR:{tpr}')"
      ],
      "metadata": {
        "colab": {
          "base_uri": "https://localhost:8080/"
        },
        "id": "W4BgjCPTRsWT",
        "outputId": "ecfe8a79-0143-4822-b359-490252b4c238"
      },
      "execution_count": 24,
      "outputs": [
        {
          "output_type": "stream",
          "name": "stdout",
          "text": [
            "FRP:[0.  0.  0.  0.2 0.2 0.4 0.8 1. ]\n",
            "TPR:[0.  0.4 0.8 0.8 1.  1.  1.  1. ]\n"
          ]
        }
      ]
    },
    {
      "cell_type": "markdown",
      "source": [
        "- ROC Curve 그리기"
      ],
      "metadata": {
        "id": "6ORctHp0PkOj"
      }
    },
    {
      "cell_type": "code",
      "source": [
        "# ROC Curve 그리기\n",
        "plt.figure()\n",
        "plt.plot(fpr, tpr, color='blue', lw=2, label=f'ROC curve (area = {roc_auc:.2f})')\n",
        "plt.plot([0, 1], [0, 1], color='gray', linestyle='--')\n",
        "plt.xlim([0.0, 1.0])\n",
        "plt.ylim([0.0, 1.0])\n",
        "plt.xlabel('False Positive Rate')\n",
        "plt.ylabel('True Positive Rate')\n",
        "plt.title('Receiver Operating Characteristic (ROC)')\n",
        "plt.legend(loc=\"lower right\")\n",
        "plt.show()"
      ],
      "metadata": {
        "colab": {
          "base_uri": "https://localhost:8080/",
          "height": 472
        },
        "id": "fs9lajDyPqPe",
        "outputId": "d352598f-4443-4ff1-81a7-25c848827acc"
      },
      "execution_count": 25,
      "outputs": [
        {
          "output_type": "display_data",
          "data": {
            "text/plain": [
              "<Figure size 640x480 with 1 Axes>"
            ],
            "image/png": "[encoded data removed]"
          },
          "metadata": {}
        }
      ]
    }
  ]
}
