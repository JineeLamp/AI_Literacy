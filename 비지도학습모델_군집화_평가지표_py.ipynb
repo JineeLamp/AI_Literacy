{
  "nbformat": 4,
  "nbformat_minor": 0,
  "metadata": {
    "colab": {
      "provenance": [],
      "authorship_tag": "ABX9TyOXYYaIyBizl+kGEtPw0t/f"
    },
    "kernelspec": {
      "name": "python3",
      "display_name": "Python 3"
    },
    "language_info": {
      "name": "python"
    }
  },
  "cells": [
    {
      "cell_type": "code",
      "execution_count": null,
      "metadata": {
        "id": "RVN3BelvFYjc"
      },
      "outputs": [],
      "source": []
    },
    {
      "cell_type": "code",
      "source": [
        "import numpy as np\n",
        "from sklearn.metrics import silhouette_score, pairwise_distances\n",
        "from sklearn.datasets import make_blobs\n",
        "from sklearn.cluster import KMeans\n",
        "from scipy.spatial.distance import cdist\n",
        "\n",
        "# 데이터 생성\n",
        "X, y = make_blobs(n_samples=300, centers=4, cluster_std=0.60, random_state=0)\n",
        "\n",
        "# KMeans 군집화\n",
        "kmeans = KMeans(n_clusters=4)\n",
        "y_pred = kmeans.fit_predict(X)\n",
        "\n",
        "# 실루엣 계수 계산\n",
        "silhouette_avg = silhouette_score(X, y_pred)\n",
        "print(f'Silhouette Coefficient: {silhouette_avg:.2f}')\n",
        "\n",
        "# Dunn Index 계산 함수\n",
        "def dunn_index(X, labels):\n",
        "    unique_clusters = np.unique(labels)\n",
        "    num_clusters = len(unique_clusters)\n",
        "\n",
        "    # 군집 간 최소 거리 계산\n",
        "    inter_cluster_distances = np.full((num_clusters, num_clusters), np.inf)\n",
        "    for i in range(num_clusters):\n",
        "        for j in range(i + 1, num_clusters):\n",
        "            if i != j:\n",
        "                inter_cluster_distances[i, j] = np.min(cdist(X[labels == unique_clusters[i]], X[labels == unique_clusters[j]]))\n",
        "\n",
        "    # 군집 내 최대 거리 계산\n",
        "    intra_cluster_distances = np.zeros(num_clusters)\n",
        "    for i in range(num_clusters):\n",
        "        intra_cluster_distances[i] = np.max(cdist(X[labels == unique_clusters[i]], X[labels == unique_clusters[i]]))\n",
        "\n",
        "    # Dunn Index 계산\n",
        "    dunn_index_value = np.min(inter_cluster_distances) / np.max(intra_cluster_distances)\n",
        "    return dunn_index_value\n",
        "\n",
        "# Dunn Index 계산\n",
        "dunn_index_value = dunn_index(X, y_pred)\n",
        "print(f'Dunn Index: {dunn_index_value:.2f}')\n"
      ],
      "metadata": {
        "id": "KS0XqWVnD7OK"
      },
      "execution_count": null,
      "outputs": []
    }
  ]
}