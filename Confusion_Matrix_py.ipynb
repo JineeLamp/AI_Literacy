{
  "nbformat": 4,
  "nbformat_minor": 0,
  "metadata": {
    "colab": {
      "provenance": [],
      "authorship_tag": "ABX9TyMwPcWHbHWz9bulhBgbXkHm"
    },
    "kernelspec": {
      "name": "python3",
      "display_name": "Python 3"
    },
    "language_info": {
      "name": "python"
    }
  },
  "cells": [
    {
      "cell_type": "markdown",
      "source": [
        "###예제1"
      ],
      "metadata": {
        "id": "MGsRkfxQd7pi"
      }
    },
    {
      "cell_type": "code",
      "execution_count": null,
      "metadata": {
        "id": "fhmwBeMndmXZ"
      },
      "outputs": [],
      "source": [
        "import numpy as np\n",
        "from sklearn.metrics import confusion_matrix, ConfusionMatrixDisplay\n",
        "import matplotlib.pyplot as plt\n",
        "\n",
        "# 예제 데이터: 실제 값(y_true)과 예측 값(y_pred)\n",
        "y_true = np.array([0, 1, 0, 1, 0, 1, 1, 0, 1, 0])\n",
        "y_pred = np.array([0, 1, 0, 0, 0, 1, 1, 1, 0, 0])\n",
        "\n",
        "# Confusion Matrix 생성\n",
        "cm = confusion_matrix(y_true, y_pred)\n",
        "\n",
        "# Confusion Matrix 시각화\n",
        "disp = ConfusionMatrixDisplay(confusion_matrix=cm)\n",
        "disp.plot(cmap=plt.cm.Blues)\n",
        "plt.show()\n",
        "\n",
        "#평가지표 계산\n",
        "from sklearn.metrics import accuracy_score, precision_score, recall_score, f1_score\n",
        "\n",
        "accuracy = accuracy_score(y_true, y_pred)\n",
        "precision = precision_score(y_true, y_pred)\n",
        "recall = recall_score(y_true, y_pred)\n",
        "f1 = f1_score(y_true, y_pred)\n",
        "\n",
        "print(f'Accuracy: {accuracy:.2f}')\n",
        "print(f'Precision: {precision:.2f}')\n",
        "print(f'Recall: {recall:.2f}')\n",
        "print(f'F1 Score: {f1:.2f}')"
      ]
    },
    {
      "cell_type": "markdown",
      "source": [
        "### 예제2"
      ],
      "metadata": {
        "id": "C7-epSIjd3xt"
      }
    },
    {
      "cell_type": "code",
      "source": [
        "#평가지표 계산: 특이도, ROC Curve\n",
        "import numpy as np\n",
        "from sklearn.metrics import confusion_matrix, roc_curve, roc_auc_score, ConfusionMatrixDisplay\n",
        "import matplotlib.pyplot as plt\n",
        "\n",
        "# 예제 데이터: 실제 값(y_true)과 예측 확률(y_scores)\n",
        "y_true = np.array([0, 1, 0, 1, 0, 1, 1, 0, 1, 0])\n",
        "y_scores = np.array([0.1, 0.9, 0.2, 0.4, 0.3, 0.8, 0.9, 0.6, 0.7, 0.2])\n",
        "\n",
        "# 예측 레이블을 threshold 0.5로 이진화\n",
        "y_pred = (y_scores >= 0.5).astype(int)\n",
        "\n",
        "# Confusion Matrix 생성\n",
        "cm = confusion_matrix(y_true, y_pred)\n",
        "\n",
        "# True Negative, False Positive, False Negative, True Positive 추출\n",
        "TN, FP, FN, TP = cm.ravel()\n",
        "\n",
        "# Specificity 계산\n",
        "specificity = TN / (TN + FP)\n",
        "print(f'Specificity: {specificity:.2f}')\n",
        "\n",
        "# ROC Curve 및 AUC 계산\n",
        "fpr, tpr, thresholds = roc_curve(y_true, y_scores)\n",
        "roc_auc = roc_auc_score(y_true, y_scores)\n",
        "\n",
        "# ROC Curve 그리기\n",
        "plt.figure()\n",
        "plt.plot(fpr, tpr, color='blue', lw=2, label=f'ROC curve (area = {roc_auc:.2f})')\n",
        "plt.plot([0, 1], [0, 1], color='gray', linestyle='--')\n",
        "plt.xlim([0.0, 1.0])\n",
        "plt.ylim([0.0, 1.0])\n",
        "plt.xlabel('False Positive Rate')\n",
        "plt.ylabel('True Positive Rate')\n",
        "plt.title('Receiver Operating Characteristic (ROC)')\n",
        "plt.legend(loc=\"lower right\")\n",
        "plt.show()\n"
      ],
      "metadata": {
        "id": "-agdajJId2JO"
      },
      "execution_count": null,
      "outputs": []
    }
  ]
}